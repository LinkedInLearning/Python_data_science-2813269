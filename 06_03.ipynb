{
 "cells": [
  {
   "cell_type": "code",
   "execution_count": 1,
   "metadata": {},
   "outputs": [],
   "source": [
    "from bs4 import BeautifulSoup"
   ]
  },
  {
   "cell_type": "code",
   "execution_count": 2,
   "metadata": {},
   "outputs": [],
   "source": [
    "html = '''\n",
    "<html><head><title>Formation Linkedin</title></head>\n",
    "<body>\n",
    "<p class='title'><b>Machine learning : Création de modèles avec Python sur SQL Server</b></p>\n",
    "\n",
    "<p class='description'>De nos jours, l'explosion du volume et de la variété des données ne laisse plus planer de doute\n",
    "<br><br>\n",
    ":\n",
    "        <br>\n",
    " <ul>\n",
    "  <li>le rôle du data scientist sera central dans les années à venir.</li>\n",
    "  <li>Si vous êtes data scientist ou que vous souhaitez travailler avec Python, ce cours est pour vous.</li>\n",
    "  <li>Omar Souissi, professeur associé en technologie de l'information et techniques d'optimisation, vous aide à acquérir les bases indispensables pour faire de la data science avec Python.</li>\n",
    "  <li>Vous découvrirez comment utiliser deux bibliothèques indispensables, à savoir NumPy et Pandas.</li>   \n",
    "  <li>Vous verrez également quelques études de cas qui vous permettront d'assimiler facilement les différentes notions de Python pour l'analyse de données.</li>  \n",
    "  </ul>\n",
    "<br><br>\n",
    "Autres formations:\n",
    "<br>\n",
    "<a href='https://www.linkedin.com/learning/python-l-analyse-de-donnees/' class = 'preview' id='link 1'>Suivre formation</a>,\n",
    "<a href='https://www.linkedin.com/learning/decouvrir-l-analyse-de-donnees' class = 'preview' id='link 2'>Suivre formation</a> \n",
    "</p>\n",
    "\n",
    "<p class='description'>...</p>\n",
    "'''"
   ]
  },
  {
   "cell_type": "code",
   "execution_count": 3,
   "metadata": {},
   "outputs": [
    {
     "data": {
      "text/plain": [
       "bs4.element.Tag"
      ]
     },
     "execution_count": 3,
     "metadata": {},
     "output_type": "execute_result"
    }
   ],
   "source": [
    "soup = BeautifulSoup(html, 'html.parser')\n",
    "tag = soup.b\n",
    "type(tag)"
   ]
  },
  {
   "cell_type": "code",
   "execution_count": 4,
   "metadata": {},
   "outputs": [
    {
     "data": {
      "text/plain": [
       "'b'"
      ]
     },
     "execution_count": 4,
     "metadata": {},
     "output_type": "execute_result"
    }
   ],
   "source": [
    "tag.name"
   ]
  },
  {
   "cell_type": "code",
   "execution_count": 5,
   "metadata": {},
   "outputs": [
    {
     "data": {
      "text/plain": [
       "'Machine learning : Création de modèles avec Python sur SQL Server'"
      ]
     },
     "execution_count": 5,
     "metadata": {},
     "output_type": "execute_result"
    }
   ],
   "source": [
    "tag.string"
   ]
  },
  {
   "cell_type": "code",
   "execution_count": 6,
   "metadata": {},
   "outputs": [
    {
     "data": {
      "text/plain": [
       "bs4.element.NavigableString"
      ]
     },
     "execution_count": 6,
     "metadata": {},
     "output_type": "execute_result"
    }
   ],
   "source": [
    "type(tag.string)"
   ]
  },
  {
   "cell_type": "code",
   "execution_count": 7,
   "metadata": {},
   "outputs": [
    {
     "data": {
      "text/plain": [
       "'Machine learning : Création de modèles avec Python sur SQL Server'"
      ]
     },
     "execution_count": 7,
     "metadata": {},
     "output_type": "execute_result"
    }
   ],
   "source": [
    "nav_string = tag.string\n",
    "nav_string"
   ]
  },
  {
   "cell_type": "code",
   "execution_count": 8,
   "metadata": {},
   "outputs": [
    {
     "data": {
      "text/plain": [
       "\n",
       "<html><head><title>Formation Linkedin</title></head>\n",
       "<body>\n",
       "<p class=\"title\"><b>Machine learning pour la création de modèles avec Python sur SQL Server</b></p>\n",
       "<p class=\"description\">De nos jours, l'explosion du volume et de la variété des données ne laisse plus planer de doute\n",
       "<br/><br/>\n",
       ":\n",
       "        <br/>\n",
       "<ul>\n",
       "<li>le rôle du data scientist sera central dans les années à venir.</li>\n",
       "<li>Si vous êtes data scientist ou que vous souhaitez travailler avec Python, ce cours est pour vous.</li>\n",
       "<li>Omar Souissi, professeur associé en technologie de l'information et techniques d'optimisation, vous aide à acquérir les bases indispensables pour faire de la data science avec Python.</li>\n",
       "<li>Vous découvrirez comment utiliser deux bibliothèques indispensables, à savoir NumPy et Pandas.</li>\n",
       "<li>Vous verrez également quelques études de cas qui vous permettront d'assimiler facilement les différentes notions de Python pour l'analyse de données.</li>\n",
       "</ul>\n",
       "<br/><br/>\n",
       "Autres formations:\n",
       "<br/>\n",
       "<a class=\"preview\" href=\"https://www.linkedin.com/learning/python-l-analyse-de-donnees/\" id=\"link 1\">Suivre formation</a>,\n",
       "<a class=\"preview\" href=\"https://www.linkedin.com/learning/decouvrir-l-analyse-de-donnees\" id=\"link 2\">Suivre formation</a>\n",
       "</p>\n",
       "<p class=\"description\">...</p>\n",
       "</body></html>"
      ]
     },
     "execution_count": 8,
     "metadata": {},
     "output_type": "execute_result"
    }
   ],
   "source": [
    "nav_string.replace_with('Machine learning pour la création de modèles avec Python sur SQL Server')\n",
    "soup"
   ]
  },
  {
   "cell_type": "code",
   "execution_count": 9,
   "metadata": {},
   "outputs": [
    {
     "name": "stdout",
     "output_type": "stream",
     "text": [
      "'Formation Linkedin'\n",
      "'Machine learning pour la création de modèles avec Python sur SQL Server'\n",
      "\"De nos jours, l'explosion du volume et de la variété des données ne laisse plus planer de doute\"\n",
      "':'\n",
      "'le rôle du data scientist sera central dans les années à venir.'\n",
      "'Si vous êtes data scientist ou que vous souhaitez travailler avec Python, ce cours est pour vous.'\n",
      "\"Omar Souissi, professeur associé en technologie de l'information et techniques d'optimisation, vous aide à acquérir les bases indispensables pour faire de la data science avec Python.\"\n",
      "'Vous découvrirez comment utiliser deux bibliothèques indispensables, à savoir NumPy et Pandas.'\n",
      "\"Vous verrez également quelques études de cas qui vous permettront d'assimiler facilement les différentes notions de Python pour l'analyse de données.\"\n",
      "'Autres formations:'\n",
      "'Suivre formation'\n",
      "','\n",
      "'Suivre formation'\n",
      "'...'\n"
     ]
    }
   ],
   "source": [
    "for string in soup.stripped_strings: print(repr(string))"
   ]
  },
  {
   "cell_type": "code",
   "execution_count": 10,
   "metadata": {},
   "outputs": [
    {
     "data": {
      "text/plain": [
       "<title>Formation Linkedin</title>"
      ]
     },
     "execution_count": 10,
     "metadata": {},
     "output_type": "execute_result"
    }
   ],
   "source": [
    "titre_tag = soup.title\n",
    "titre_tag"
   ]
  },
  {
   "cell_type": "code",
   "execution_count": 11,
   "metadata": {},
   "outputs": [
    {
     "data": {
      "text/plain": [
       "<head><title>Formation Linkedin</title></head>"
      ]
     },
     "execution_count": 11,
     "metadata": {},
     "output_type": "execute_result"
    }
   ],
   "source": [
    "titre_tag.parent"
   ]
  },
  {
   "cell_type": "code",
   "execution_count": 12,
   "metadata": {},
   "outputs": [
    {
     "data": {
      "text/plain": [
       "'Formation Linkedin'"
      ]
     },
     "execution_count": 12,
     "metadata": {},
     "output_type": "execute_result"
    }
   ],
   "source": [
    "titre_tag.string"
   ]
  },
  {
   "cell_type": "code",
   "execution_count": null,
   "metadata": {},
   "outputs": [],
   "source": []
  }
 ],
 "metadata": {
  "kernelspec": {
   "display_name": "Python 3",
   "language": "python",
   "name": "python3"
  },
  "language_info": {
   "codemirror_mode": {
    "name": "ipython",
    "version": 3
   },
   "file_extension": ".py",
   "mimetype": "text/x-python",
   "name": "python",
   "nbconvert_exporter": "python",
   "pygments_lexer": "ipython3",
   "version": "3.7.3"
  }
 },
 "nbformat": 4,
 "nbformat_minor": 2
}
