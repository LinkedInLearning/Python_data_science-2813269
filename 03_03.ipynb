{
 "cells": [
  {
   "cell_type": "code",
   "execution_count": 1,
   "metadata": {},
   "outputs": [],
   "source": [
    "D_pays={'Pays1': {'Code_Pays': 'AT',\n",
    "             'Nom_Pays': 'Autriche',\n",
    "             'Langue': 'Allemand'},\n",
    " 'Pays2': {'Code_Pays': 'FR',\n",
    "             'Nom_Pays': 'France',\n",
    "             'Langue': 'Français'},\n",
    "  'Pays3': {'Code_Pays': 'MA',\n",
    "             'Nom_Pays': 'Maroc',\n",
    "             'Langue': 'Arabe'}}"
   ]
  },
  {
   "cell_type": "code",
   "execution_count": 2,
   "metadata": {},
   "outputs": [],
   "source": [
    "import json"
   ]
  },
  {
   "cell_type": "code",
   "execution_count": 3,
   "metadata": {},
   "outputs": [
    {
     "data": {
      "text/plain": [
       "'{\"Pays1\": {\"Code_Pays\": \"AT\", \"Nom_Pays\": \"Autriche\", \"Langue\": \"Allemand\"}, \"Pays2\": {\"Code_Pays\": \"FR\", \"Nom_Pays\": \"France\", \"Langue\": \"Fran\\\\u00e7ais\"}, \"Pays3\": {\"Code_Pays\": \"MA\", \"Nom_Pays\": \"Maroc\", \"Langue\": \"Arabe\"}}'"
      ]
     },
     "execution_count": 3,
     "metadata": {},
     "output_type": "execute_result"
    }
   ],
   "source": [
    "json.dumps(D_pays)"
   ]
  },
  {
   "cell_type": "code",
   "execution_count": 4,
   "metadata": {},
   "outputs": [],
   "source": [
    "with open('pays.json', 'w') as f:\n",
    "    f.write(json.dumps(D_pays))"
   ]
  },
  {
   "cell_type": "code",
   "execution_count": 5,
   "metadata": {},
   "outputs": [],
   "source": [
    "with open('pays.json', 'r') as f:\n",
    "    pays = json.load(f)"
   ]
  },
  {
   "cell_type": "code",
   "execution_count": 6,
   "metadata": {},
   "outputs": [
    {
     "data": {
      "text/plain": [
       "{'Pays1': {'Code_Pays': 'AT', 'Nom_Pays': 'Autriche', 'Langue': 'Allemand'},\n",
       " 'Pays2': {'Code_Pays': 'FR', 'Nom_Pays': 'France', 'Langue': 'Français'},\n",
       " 'Pays3': {'Code_Pays': 'MA', 'Nom_Pays': 'Maroc', 'Langue': 'Arabe'}}"
      ]
     },
     "execution_count": 6,
     "metadata": {},
     "output_type": "execute_result"
    }
   ],
   "source": [
    "pays"
   ]
  },
  {
   "cell_type": "code",
   "execution_count": 7,
   "metadata": {},
   "outputs": [
    {
     "data": {
      "text/plain": [
       "dict"
      ]
     },
     "execution_count": 7,
     "metadata": {},
     "output_type": "execute_result"
    }
   ],
   "source": [
    "type(pays)"
   ]
  },
  {
   "cell_type": "code",
   "execution_count": 8,
   "metadata": {},
   "outputs": [
    {
     "name": "stdout",
     "output_type": "stream",
     "text": [
      "{\"Pays1\": {\"Code_Pays\": \"AT\", \"Langue\": \"Allemand\", \"Nom_Pays\": \"Autriche\"}, \"Pays2\": {\"Code_Pays\": \"FR\", \"Langue\": \"Fran\\u00e7ais\", \"Nom_Pays\": \"France\"}, \"Pays3\": {\"Code_Pays\": \"MA\", \"Langue\": \"Arabe\", \"Nom_Pays\": \"Maroc\"}}\n"
     ]
    }
   ],
   "source": [
    "print(json.dumps(pays, sort_keys=True))"
   ]
  },
  {
   "cell_type": "code",
   "execution_count": null,
   "metadata": {},
   "outputs": [],
   "source": []
  }
 ],
 "metadata": {
  "kernelspec": {
   "display_name": "Python 3",
   "language": "python",
   "name": "python3"
  },
  "language_info": {
   "codemirror_mode": {
    "name": "ipython",
    "version": 3
   },
   "file_extension": ".py",
   "mimetype": "text/x-python",
   "name": "python",
   "nbconvert_exporter": "python",
   "pygments_lexer": "ipython3",
   "version": "3.7.3"
  }
 },
 "nbformat": 4,
 "nbformat_minor": 2
}
