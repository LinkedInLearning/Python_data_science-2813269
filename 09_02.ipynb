{
 "cells": [
  {
   "cell_type": "code",
   "execution_count": 2,
   "id": "40f8e872",
   "metadata": {},
   "outputs": [
    {
     "name": "stdout",
     "output_type": "stream",
     "text": [
      "Collecting mistralai\n",
      "  Downloading mistralai-0.4.2-py3-none-any.whl (20 kB)\n",
      "Requirement already satisfied: pydantic<3,>=2.5.2 in c:\\users\\inpt\\anaconda3\\lib\\site-packages (from mistralai) (2.5.3)\n",
      "Requirement already satisfied: httpx<1,>=0.25 in c:\\users\\inpt\\anaconda3\\lib\\site-packages (from mistralai) (0.27.0)\n",
      "Requirement already satisfied: orjson<3.11,>=3.9.10 in c:\\users\\inpt\\anaconda3\\lib\\site-packages (from mistralai) (3.10.6)\n",
      "Requirement already satisfied: httpcore==1.* in c:\\users\\inpt\\anaconda3\\lib\\site-packages (from httpx<1,>=0.25->mistralai) (1.0.5)\n",
      "Requirement already satisfied: idna in c:\\users\\inpt\\anaconda3\\lib\\site-packages (from httpx<1,>=0.25->mistralai) (3.4)\n",
      "Requirement already satisfied: sniffio in c:\\users\\inpt\\anaconda3\\lib\\site-packages (from httpx<1,>=0.25->mistralai) (1.2.0)\n",
      "Requirement already satisfied: anyio in c:\\users\\inpt\\anaconda3\\lib\\site-packages (from httpx<1,>=0.25->mistralai) (3.5.0)\n",
      "Requirement already satisfied: certifi in c:\\users\\inpt\\anaconda3\\lib\\site-packages (from httpx<1,>=0.25->mistralai) (2022.12.7)\n",
      "Requirement already satisfied: h11<0.15,>=0.13 in c:\\users\\inpt\\anaconda3\\lib\\site-packages (from httpcore==1.*->httpx<1,>=0.25->mistralai) (0.14.0)\n",
      "Requirement already satisfied: pydantic-core==2.14.6 in c:\\users\\inpt\\anaconda3\\lib\\site-packages (from pydantic<3,>=2.5.2->mistralai) (2.14.6)\n",
      "Requirement already satisfied: annotated-types>=0.4.0 in c:\\users\\inpt\\anaconda3\\lib\\site-packages (from pydantic<3,>=2.5.2->mistralai) (0.6.0)\n",
      "Requirement already satisfied: typing-extensions>=4.6.1 in c:\\users\\inpt\\anaconda3\\lib\\site-packages (from pydantic<3,>=2.5.2->mistralai) (4.9.0)\n",
      "Installing collected packages: mistralai\n",
      "Successfully installed mistralai-0.4.2\n",
      "Note: you may need to restart the kernel to use updated packages.\n"
     ]
    }
   ],
   "source": [
    "pip install mistralai"
   ]
  },
  {
   "cell_type": "code",
   "execution_count": 1,
   "id": "0345928c",
   "metadata": {
    "scrolled": true
   },
   "outputs": [
    {
     "name": "stdout",
     "output_type": "stream",
     "text": [
      "L'équipe de France de football, également connue sous le nom des \"Bleus\", est la sélection de joueurs français représentant le pays lors des compétitions internationales de football masculin, sous l'égide de la Fédération française de football (FFF). L'équipe de France évolue actuellement en Ligue A de la Ligue des nations de l'UEFA.\n",
      "\n",
      "L'équipe de France a connu de nombreux succès au cours de son histoire. Elle a remporté deux Coupes du monde, en 1998 en tant que pays hôte et en 2018 en Russie. Elle a également remporté deux Championnats d'Europe, en 1984 et 2000, ainsi que deux Coupes des confédérations, en 2001 et 2003.\n",
      "\n",
      "L'équipe est actuellement entraînée par Didier Deschamps, ancien capitaine de l'équipe de France et vainqueur de la Coupe du monde 1998 en tant que joueur et en 2018 en tant qu'entraîneur. Parmi les joueurs clés de l'équipe actuelle, on peut citer Kylian Mbappé, Antoine Griezmann, Paul Pogba et Hugo Lloris, qui est le capitaine.\n",
      "\n",
      "Le stade principal de l'équipe de France est le Stade de France, situé à Saint-Denis, en banlieue parisienne. Cependant, l'équipe joue parfois dans d'autres stades du pays pour des matchs amicaux ou des compétitions.\n",
      "\n",
      "L'équipe de France est connue pour son style de jeu dynamique et offensif, avec une forte emphasis sur la technique individuelle et la vitesse. Elle est respectée et crainte dans le monde du football pour ses performances et son palmarès.\n"
     ]
    }
   ],
   "source": [
    "import os\n",
    "from mistralai.client import MistralClient\n",
    "from mistralai.models.chat_completion import ChatMessage\n",
    "\n",
    "api_key = 'Ma clé mistral'\n",
    "model = \"mistral-large-latest\"\n",
    "\n",
    "client = MistralClient(api_key=api_key)\n",
    "\n",
    "chat_response = client.chat(\n",
    "    model=model,\n",
    "    messages=[ChatMessage(role=\"user\", content=\"Parlez moi de l'équipe de France de football\")]\n",
    ")\n",
    "\n",
    "print(chat_response.choices[0].message.content)"
   ]
  },
  {
   "cell_type": "code",
   "execution_count": null,
   "id": "3dc6bc48",
   "metadata": {},
   "outputs": [],
   "source": []
  }
 ],
 "metadata": {
  "kernelspec": {
   "display_name": "Python 3 (ipykernel)",
   "language": "python",
   "name": "python3"
  },
  "language_info": {
   "codemirror_mode": {
    "name": "ipython",
    "version": 3
   },
   "file_extension": ".py",
   "mimetype": "text/x-python",
   "name": "python",
   "nbconvert_exporter": "python",
   "pygments_lexer": "ipython3",
   "version": "3.10.9"
  }
 },
 "nbformat": 4,
 "nbformat_minor": 5
}
