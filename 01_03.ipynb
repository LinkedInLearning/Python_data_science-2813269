{
 "cells": [
  {
   "cell_type": "code",
   "execution_count": 1,
   "metadata": {},
   "outputs": [],
   "source": [
    "import numpy"
   ]
  },
  {
   "cell_type": "code",
   "execution_count": 2,
   "metadata": {},
   "outputs": [],
   "source": [
    "import pandas"
   ]
  },
  {
   "cell_type": "code",
   "execution_count": 3,
   "metadata": {},
   "outputs": [
    {
     "ename": "ModuleNotFoundError",
     "evalue": "No module named 'pattern'",
     "output_type": "error",
     "traceback": [
      "\u001b[1;31m---------------------------------------------------------------------------\u001b[0m",
      "\u001b[1;31mModuleNotFoundError\u001b[0m                       Traceback (most recent call last)",
      "\u001b[1;32m<ipython-input-3-7e8790a2a2fb>\u001b[0m in \u001b[0;36m<module>\u001b[1;34m\u001b[0m\n\u001b[1;32m----> 1\u001b[1;33m \u001b[1;32mimport\u001b[0m \u001b[0mpattern\u001b[0m\u001b[1;33m\u001b[0m\u001b[1;33m\u001b[0m\u001b[0m\n\u001b[0m",
      "\u001b[1;31mModuleNotFoundError\u001b[0m: No module named 'pattern'"
     ]
    }
   ],
   "source": [
    "import pattern"
   ]
  },
  {
   "cell_type": "code",
   "execution_count": 4,
   "metadata": {},
   "outputs": [
    {
     "name": "stdout",
     "output_type": "stream",
     "text": [
      "Collecting pattern\n",
      "  Downloading https://files.pythonhosted.org/packages/1e/07/b0e61b6c818ed4b6145fe01d1c341223aa6cfbc3928538ad1f2b890924a3/Pattern-3.6.0.tar.gz (22.2MB)\n",
      "Requirement already satisfied: future in c:\\users\\booth15-mgr2\\anaconda3\\lib\\site-packages (from pattern) (0.17.1)\n",
      "Collecting backports.csv (from pattern)\n",
      "  Downloading https://files.pythonhosted.org/packages/8e/26/a6bd68f13e0f38fbb643d6e497fc3462be83a0b6c4d43425c78bb51a7291/backports.csv-1.0.7-py2.py3-none-any.whl\n",
      "Collecting mysqlclient (from pattern)\n",
      "  Downloading https://files.pythonhosted.org/packages/64/46/3811fe37b1e1a39d6c47f44957cdae9c207bc23bf6c22ebb1d7a6892a55f/mysqlclient-1.4.4-cp37-cp37m-win_amd64.whl (178kB)\n",
      "Requirement already satisfied: beautifulsoup4 in c:\\users\\booth15-mgr2\\anaconda3\\lib\\site-packages (from pattern) (4.7.1)\n",
      "Requirement already satisfied: lxml in c:\\users\\booth15-mgr2\\anaconda3\\lib\\site-packages (from pattern) (4.3.4)\n",
      "Collecting feedparser (from pattern)\n",
      "  Downloading https://files.pythonhosted.org/packages/91/d8/7d37fec71ff7c9dbcdd80d2b48bcdd86d6af502156fc93846fb0102cb2c4/feedparser-5.2.1.tar.bz2 (192kB)\n",
      "Collecting pdfminer.six (from pattern)\n",
      "  Downloading https://files.pythonhosted.org/packages/8a/fd/6e8746e6965d1a7ea8e97253e3d79e625da5547e8f376f88de5d024bacb9/pdfminer.six-20181108-py2.py3-none-any.whl (5.6MB)\n",
      "Requirement already satisfied: numpy in c:\\users\\booth15-mgr2\\anaconda3\\lib\\site-packages (from pattern) (1.16.4)\n",
      "Requirement already satisfied: scipy in c:\\users\\booth15-mgr2\\anaconda3\\lib\\site-packages (from pattern) (1.2.1)\n",
      "Requirement already satisfied: nltk in c:\\users\\booth15-mgr2\\anaconda3\\lib\\site-packages (from pattern) (3.4.4)\n",
      "Collecting python-docx (from pattern)\n",
      "  Downloading https://files.pythonhosted.org/packages/e4/83/c66a1934ed5ed8ab1dbb9931f1779079f8bca0f6bbc5793c06c4b5e7d671/python-docx-0.8.10.tar.gz (5.5MB)\n",
      "Collecting cherrypy (from pattern)\n",
      "  Downloading https://files.pythonhosted.org/packages/e4/76/e130a94133efa9123eec89ccdda08719ecf84b7c5096d264df2e098ed439/CherryPy-18.2.0-py2.py3-none-any.whl (418kB)\n",
      "Requirement already satisfied: requests in c:\\users\\booth15-mgr2\\anaconda3\\lib\\site-packages (from pattern) (2.22.0)\n",
      "Requirement already satisfied: soupsieve>=1.2 in c:\\users\\booth15-mgr2\\anaconda3\\lib\\site-packages (from beautifulsoup4->pattern) (1.8)\n",
      "Requirement already satisfied: sortedcontainers in c:\\users\\booth15-mgr2\\anaconda3\\lib\\site-packages (from pdfminer.six->pattern) (2.1.0)\n",
      "Requirement already satisfied: six in c:\\users\\booth15-mgr2\\anaconda3\\lib\\site-packages (from pdfminer.six->pattern) (1.12.0)\n",
      "Collecting pycryptodome (from pdfminer.six->pattern)\n",
      "  Downloading https://files.pythonhosted.org/packages/43/61/41dfdccaf42732ce1a6aef4a69fba916d6eb0ae189ce5a2a67888cee3ffb/pycryptodome-3.9.0-cp37-cp37m-win_amd64.whl (10.1MB)\n",
      "Collecting portend>=2.1.1 (from cherrypy->pattern)\n",
      "  Downloading https://files.pythonhosted.org/packages/0a/f5/0e5fe0bba1450034f023519aed3ca326bc42981475a93e3645ab868f351c/portend-2.5-py2.py3-none-any.whl\n",
      "Collecting zc.lockfile (from cherrypy->pattern)\n",
      "  Downloading https://files.pythonhosted.org/packages/6c/2a/268389776288f0f26c7272c70c36c96dcc0bdb88ab6216ea18e19df1fadd/zc.lockfile-2.0-py2.py3-none-any.whl\n",
      "Requirement already satisfied: pywin32; sys_platform == \"win32\" in c:\\users\\booth15-mgr2\\anaconda3\\lib\\site-packages (from cherrypy->pattern) (223)\n",
      "Collecting cheroot>=6.2.4 (from cherrypy->pattern)\n",
      "  Downloading https://files.pythonhosted.org/packages/fd/7f/ed37a020b60355ad62af794fc780fd2c67bd12d2867c63bc69ca4bddff27/cheroot-6.5.8-py2.py3-none-any.whl (76kB)\n",
      "Requirement already satisfied: more-itertools in c:\\users\\booth15-mgr2\\anaconda3\\lib\\site-packages (from cherrypy->pattern) (7.0.0)\n",
      "Requirement already satisfied: urllib3!=1.25.0,!=1.25.1,<1.26,>=1.21.1 in c:\\users\\booth15-mgr2\\anaconda3\\lib\\site-packages (from requests->pattern) (1.24.2)\n",
      "Requirement already satisfied: certifi>=2017.4.17 in c:\\users\\booth15-mgr2\\anaconda3\\lib\\site-packages (from requests->pattern) (2019.6.16)\n",
      "Requirement already satisfied: idna<2.9,>=2.5 in c:\\users\\booth15-mgr2\\anaconda3\\lib\\site-packages (from requests->pattern) (2.8)\n",
      "Requirement already satisfied: chardet<3.1.0,>=3.0.2 in c:\\users\\booth15-mgr2\\anaconda3\\lib\\site-packages (from requests->pattern) (3.0.4)\n",
      "Collecting tempora>=1.8 (from portend>=2.1.1->cherrypy->pattern)\n",
      "  Downloading https://files.pythonhosted.org/packages/5c/12/4c97c44e5c9d111649e363353a4ca3ece9c6cc04b11cc48540f26e42d7b9/tempora-1.14.1-py2.py3-none-any.whl\n",
      "Requirement already satisfied: setuptools in c:\\users\\booth15-mgr2\\anaconda3\\lib\\site-packages (from zc.lockfile->cherrypy->pattern) (41.0.1)\n",
      "Requirement already satisfied: backports.functools-lru-cache in c:\\users\\booth15-mgr2\\anaconda3\\lib\\site-packages (from cheroot>=6.2.4->cherrypy->pattern) (1.5)\n",
      "Requirement already satisfied: pytz in c:\\users\\booth15-mgr2\\anaconda3\\lib\\site-packages (from tempora>=1.8->portend>=2.1.1->cherrypy->pattern) (2019.1)\n",
      "Collecting jaraco.functools>=1.20 (from tempora>=1.8->portend>=2.1.1->cherrypy->pattern)\n",
      "  Downloading https://files.pythonhosted.org/packages/12/a4/3e7366d0f5e75dcad7be88524c8cbd0f3a9fb1db243269550981740c57fe/jaraco.functools-2.0-py2.py3-none-any.whl\n",
      "Building wheels for collected packages: pattern, feedparser, python-docx\n",
      "  Building wheel for pattern (setup.py): started\n",
      "  Building wheel for pattern (setup.py): finished with status 'done'\n",
      "  Stored in directory: C:\\Users\\booth15-mgr2\\AppData\\Local\\pip\\Cache\\wheels\\dc\\9a\\0e\\5fb1a603ed4e3aa8722a88e9cf4a82da7d1b63e3d2cc34bee5\n",
      "  Building wheel for feedparser (setup.py): started\n",
      "  Building wheel for feedparser (setup.py): finished with status 'done'\n",
      "  Stored in directory: C:\\Users\\booth15-mgr2\\AppData\\Local\\pip\\Cache\\wheels\\8c\\69\\b7\\f52763c41c5471df57703a0ef718a32a5e81ee35dcf6d4f97f\n",
      "  Building wheel for python-docx (setup.py): started\n",
      "  Building wheel for python-docx (setup.py): finished with status 'done'\n",
      "  Stored in directory: C:\\Users\\booth15-mgr2\\AppData\\Local\\pip\\Cache\\wheels\\18\\0b\\a0\\1dd62ff812c857c9e487f27d80d53d2b40531bec1acecfa47b\n",
      "Successfully built pattern feedparser python-docx\n",
      "Installing collected packages: backports.csv, mysqlclient, feedparser, pycryptodome, pdfminer.six, python-docx, jaraco.functools, tempora, portend, zc.lockfile, cheroot, cherrypy, pattern\n",
      "Successfully installed backports.csv-1.0.7 cheroot-6.5.8 cherrypy-18.2.0 feedparser-5.2.1 jaraco.functools-2.0 mysqlclient-1.4.4 pattern-3.6 pdfminer.six-20181108 portend-2.5 pycryptodome-3.9.0 python-docx-0.8.10 tempora-1.14.1 zc.lockfile-2.0\n"
     ]
    }
   ],
   "source": [
    "import sys\n",
    "!{sys.executable} -m pip install pattern"
   ]
  },
  {
   "cell_type": "code",
   "execution_count": null,
   "metadata": {},
   "outputs": [],
   "source": []
  }
 ],
 "metadata": {
  "kernelspec": {
   "display_name": "Python 3",
   "language": "python",
   "name": "python3"
  },
  "language_info": {
   "codemirror_mode": {
    "name": "ipython",
    "version": 3
   },
   "file_extension": ".py",
   "mimetype": "text/x-python",
   "name": "python",
   "nbconvert_exporter": "python",
   "pygments_lexer": "ipython3",
   "version": "3.7.3"
  }
 },
 "nbformat": 4,
 "nbformat_minor": 2
}
