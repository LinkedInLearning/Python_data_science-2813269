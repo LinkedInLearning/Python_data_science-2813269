{
 "cells": [
  {
   "cell_type": "code",
   "execution_count": 1,
   "metadata": {},
   "outputs": [],
   "source": [
    "import requests\n",
    "from bs4 import BeautifulSoup"
   ]
  },
  {
   "cell_type": "code",
   "execution_count": 2,
   "metadata": {},
   "outputs": [
    {
     "name": "stdout",
     "output_type": "stream",
     "text": [
      "<!DOCTYPE html>\n",
      "<html class=\"client-nojs\" dir=\"ltr\" lang=\"fr\">\n",
      " <head>\n",
      "  <meta charset=\"utf-8\"/>\n",
      "  <title>\n",
      "   Web scraping — Wikipédia\n",
      "  </title>\n",
      "  <script>\n",
      "   document.documentElement.className=docum\n"
     ]
    }
   ],
   "source": [
    "Lien = requests.get('https://fr.wikipedia.org/wiki/Web_scraping')\n",
    "soup = BeautifulSoup(Lien.text,'lxml')\n",
    "print(soup.prettify()[0:200])"
   ]
  },
  {
   "cell_type": "code",
   "execution_count": 3,
   "metadata": {},
   "outputs": [
    {
     "data": {
      "text/plain": [
       "<title>Web scraping — Wikipédia</title>"
      ]
     },
     "execution_count": 3,
     "metadata": {},
     "output_type": "execute_result"
    }
   ],
   "source": [
    "soup.title"
   ]
  },
  {
   "cell_type": "code",
   "execution_count": 4,
   "metadata": {},
   "outputs": [
    {
     "data": {
      "text/plain": [
       "'Web scraping — Wikipédia'"
      ]
     },
     "execution_count": 4,
     "metadata": {},
     "output_type": "execute_result"
    }
   ],
   "source": [
    "soup.title.string"
   ]
  },
  {
   "cell_type": "code",
   "execution_count": 5,
   "metadata": {},
   "outputs": [
    {
     "name": "stdout",
     "output_type": "stream",
     "text": [
      "None\n",
      "#mw-head\n",
      "#p-search\n",
      "/wiki/Site_Web\n",
      "/wiki/Langage_de_script\n",
      "/wiki/Programme_informatique\n",
      "/wiki/R%C3%A9f%C3%A9rencement\n",
      "#cite_note-1\n",
      "#Arguments_contre\n",
      "#Arguments_pour\n",
      "#Applications_utilisant_le_Web_scraping\n",
      "#Utilisation_dans_la_gestion_de_données_multimédia\n",
      "#Notes_et_références\n",
      "#Voir_aussi\n",
      "#Articles_connexes\n",
      "#Liens_externes\n",
      "/w/index.php?title=Web_scraping&veaction=edit&section=1\n",
      "/w/index.php?title=Web_scraping&action=edit&section=1\n",
      "/wiki/Google\n",
      "/wiki/Aide:R%C3%A9f%C3%A9rence_n%C3%A9cessaire\n",
      "/wiki/Google_Actualit%C3%A9s\n",
      "/w/index.php?title=Web_scraping&veaction=edit&section=2\n",
      "/w/index.php?title=Web_scraping&action=edit&section=2\n",
      "/wiki/Int%C3%A9gration_d%27applications_d%27entreprise\n",
      "/w/index.php?title=Web_scraping&veaction=edit&section=3\n",
      "/w/index.php?title=Web_scraping&action=edit&section=3\n",
      "/wiki/Mozilla_Firefox\n",
      "/wiki/Selenium_(informatique)\n",
      "/wiki/Google_Chrome\n",
      "/wiki/Scrapy\n",
      "/wiki/OutWit_Hub\n",
      "/wiki/PhantomJS\n",
      "/wiki/Weboob\n",
      "https://en.wikipedia.org/wiki/QuickCode\n",
      "/w/index.php?title=Web_scraping&veaction=edit&section=4\n",
      "/w/index.php?title=Web_scraping&action=edit&section=4\n",
      "/wiki/M%C3%A9tadonn%C3%A9es\n",
      "#cite_note-2\n",
      "/w/index.php?title=Web_scraping&veaction=edit&section=5\n",
      "/w/index.php?title=Web_scraping&action=edit&section=5\n",
      "#cite_ref-1\n",
      "https://books.google.fr/books?id=PfLTAEjPsAAC&pg=PA125&dq=%22Web+scraping%22&hl=fr&sa=X&ei=IwFaUbqNNonbtAbAi4GABg&ved=0CEgQ6AEwBQ#v=onepage&q=%22Web%20scraping%22&f=false\n",
      "#cite_ref-2\n",
      "http://wiki.xbmc.org/index.php?title=Scrapers\n",
      "/w/index.php?title=Web_scraping&veaction=edit&section=6\n",
      "/w/index.php?title=Web_scraping&action=edit&section=6\n",
      "/w/index.php?title=Web_scraping&veaction=edit&section=7\n",
      "/w/index.php?title=Web_scraping&action=edit&section=7\n",
      "/wiki/Application_composite\n",
      "/wiki/Agr%C3%A9gateur\n",
      "/wiki/Robot_d%27indexation\n",
      "/wiki/Aspirateur_de_site_web\n",
      "/w/index.php?title=Web_scraping&veaction=edit&section=8\n",
      "/w/index.php?title=Web_scraping&action=edit&section=8\n",
      "http://www.slate.fr/life/73113/scrapathon-data-publica-utiliser-donnees-publiques\n",
      "https://developer.mozilla.org/fr/Firefox/Headless_mode\n",
      "https://developers.google.com/web/updates/2017/04/headless-chrome\n",
      "https://github.com/ariya/phantomjs/issues/15105\n",
      "/wiki/Mod%C3%A8le:Palette_Optimisation_pour_les_moteurs_de_recherche\n",
      "https://fr.wikipedia.org/w/index.php?title=Mod%C3%A8le:Palette_Optimisation_pour_les_moteurs_de_recherche&action=edit\n",
      "/wiki/Optimisation_pour_les_moteurs_de_recherche\n",
      "/wiki/Protocole_d%27exclusion_des_robots\n",
      "/wiki/%C3%89l%C3%A9ment_meta\n",
      "/wiki/Nofollow\n",
      "/wiki/Search_engine_marketing\n",
      "/wiki/Social_media_optimization\n",
      "/w/index.php?title=Online_identity_management&action=edit&redlink=1\n",
      "https://en.wikipedia.org/wiki/Online_identity_management\n",
      "/w/index.php?title=Paid_inclusion&action=edit&redlink=1\n",
      "https://en.wikipedia.org/wiki/Paid_inclusion\n",
      "/wiki/Co%C3%BBt_par_clic\n",
      "/wiki/Bombardement_Google\n",
      "/wiki/Spamdexing\n",
      "None\n",
      "/wiki/Scraper_site\n",
      "/wiki/Ferme_de_liens\n",
      "/wiki/Netlinking\n",
      "/wiki/Lien_retour\n",
      "/wiki/Netlinking\n",
      "/wiki/%C3%89change_de_liens\n",
      "/w/index.php?title=Organic_linking&action=edit&redlink=1\n",
      "https://en.wikipedia.org/wiki/Organic_linking\n",
      "/w/index.php?title=Danny_Sullivan_(technologist)&action=edit&redlink=1\n",
      "https://en.wikipedia.org/wiki/Danny_Sullivan_(technologist)\n",
      "/wiki/Matt_Cutts\n",
      "/w/index.php?title=Vanessa_Fox&action=edit&redlink=1\n",
      "https://en.wikipedia.org/wiki/Vanessa_Fox\n",
      "/w/index.php?title=Barry_Schwartz_(technologist)&action=edit&redlink=1\n",
      "https://en.wikipedia.org/wiki/Barry_Schwartz_(technologist)\n",
      "/wiki/Olivier_Andrieu\n",
      "/wiki/Ciblage_g%C3%A9ographique\n",
      "/wiki/PageRank\n",
      "/wiki/Mot_vide\n",
      "/w/index.php?title=Poison_words&action=edit&redlink=1\n",
      "https://en.wikipedia.org/wiki/Poison_words\n",
      "/wiki/Ferme_de_contenus\n",
      "/wiki/Portail:Informatique\n",
      "/wiki/Portail:Informatique\n",
      "/wiki/Portail:Internet\n",
      "/wiki/Portail:Internet\n",
      "https://fr.wikipedia.org/w/index.php?title=Web_scraping&oldid=160378813\n",
      "/wiki/Cat%C3%A9gorie:Accueil\n",
      "/wiki/Cat%C3%A9gorie:World_Wide_Web\n",
      "/wiki/Cat%C3%A9gorie:Technologie_web\n",
      "/wiki/Cat%C3%A9gorie:Web_2.0\n",
      "/wiki/Cat%C3%A9gorie:Agr%C3%A9gateur\n",
      "/wiki/Cat%C3%A9gorie:Article_%C3%A0_r%C3%A9f%C3%A9rence_n%C3%A9cessaire\n",
      "/wiki/Cat%C3%A9gorie:Article_contenant_un_appel_%C3%A0_traduction_en_anglais\n",
      "/wiki/Cat%C3%A9gorie:Portail:Informatique/Articles_li%C3%A9s\n",
      "/wiki/Cat%C3%A9gorie:Portail:Technologies/Articles_li%C3%A9s\n",
      "/wiki/Cat%C3%A9gorie:Portail:Sciences/Articles_li%C3%A9s\n",
      "/wiki/Cat%C3%A9gorie:Portail:Internet/Articles_li%C3%A9s\n",
      "/wiki/Cat%C3%A9gorie:Portail:M%C3%A9dias/Articles_li%C3%A9s\n",
      "/wiki/Sp%C3%A9cial:Mes_discussions\n",
      "/wiki/Sp%C3%A9cial:Mes_contributions\n",
      "/w/index.php?title=Sp%C3%A9cial:Cr%C3%A9er_un_compte&returnto=Web+scraping\n",
      "/w/index.php?title=Sp%C3%A9cial:Connexion&returnto=Web+scraping\n",
      "/wiki/Web_scraping\n",
      "/wiki/Discussion:Web_scraping\n",
      "/wiki/Web_scraping\n",
      "/w/index.php?title=Web_scraping&veaction=edit\n",
      "/w/index.php?title=Web_scraping&action=edit\n",
      "/w/index.php?title=Web_scraping&action=history\n",
      "/wiki/Wikip%C3%A9dia:Accueil_principal\n",
      "/wiki/Wikip%C3%A9dia:Accueil_principal\n",
      "/wiki/Portail:Accueil\n",
      "/wiki/Sp%C3%A9cial:Page_au_hasard\n",
      "/wiki/Wikip%C3%A9dia:Contact\n",
      "/wiki/Aide:D%C3%A9buter\n",
      "/wiki/Aide:Accueil\n",
      "/wiki/Wikip%C3%A9dia:Accueil_de_la_communaut%C3%A9\n",
      "/wiki/Sp%C3%A9cial:Modifications_r%C3%A9centes\n",
      "//donate.wikimedia.org/wiki/Special:FundraiserRedirector?utm_source=donate&utm_medium=sidebar&utm_campaign=C13_fr.wikipedia.org&uselang=fr\n",
      "/wiki/Sp%C3%A9cial:Pages_li%C3%A9es/Web_scraping\n",
      "/wiki/Sp%C3%A9cial:Suivi_des_liens/Web_scraping\n",
      "/wiki/Aide:Importer_un_fichier\n",
      "/wiki/Sp%C3%A9cial:Pages_sp%C3%A9ciales\n",
      "/w/index.php?title=Web_scraping&oldid=160378813\n",
      "/w/index.php?title=Web_scraping&action=info\n",
      "https://www.wikidata.org/wiki/Special:EntityPage/Q665452\n",
      "/w/index.php?title=Sp%C3%A9cial:Citer&page=Web_scraping&id=160378813\n",
      "/w/index.php?title=Sp%C3%A9cial:Livre&bookcmd=book_creator&referer=Web+scraping\n",
      "/w/index.php?title=Sp%C3%A9cial:ElectronPdf&page=Web+scraping&action=show-download-screen\n",
      "/w/index.php?title=Web_scraping&printable=yes\n",
      "https://ar.wikipedia.org/wiki/%D8%A7%D8%B3%D8%AA%D8%AE%D9%84%D8%A7%D8%B5_%D8%A7%D9%84%D9%85%D9%88%D8%A7%D9%82%D8%B9\n",
      "https://ca.wikipedia.org/wiki/Web_scraping\n",
      "https://de.wikipedia.org/wiki/Screen_Scraping\n",
      "https://en.wikipedia.org/wiki/Web_scraping\n",
      "https://es.wikipedia.org/wiki/Web_scraping\n",
      "https://eu.wikipedia.org/wiki/Web_scraping\n",
      "https://id.wikipedia.org/wiki/Web_scraping\n",
      "https://is.wikipedia.org/wiki/Vefs%C3%B6fnun\n",
      "https://it.wikipedia.org/wiki/Web_scraping\n",
      "https://ja.wikipedia.org/wiki/%E3%82%A6%E3%82%A7%E3%83%96%E3%82%B9%E3%82%AF%E3%83%AC%E3%82%A4%E3%83%94%E3%83%B3%E3%82%B0\n",
      "https://lv.wikipedia.org/wiki/Rasmo%C5%A1ana\n",
      "https://nl.wikipedia.org/wiki/Scrapen\n",
      "https://pt.wikipedia.org/wiki/Coleta_de_dados_web\n",
      "https://sr.wikipedia.org/wiki/Web_scraping\n",
      "https://tr.wikipedia.org/wiki/Web_kaz%C4%B1ma\n",
      "https://uk.wikipedia.org/wiki/Web_scraping\n",
      "https://zh.wikipedia.org/wiki/%E7%BD%91%E9%A1%B5%E6%8A%93%E5%8F%96\n",
      "https://www.wikidata.org/wiki/Special:EntityPage/Q665452#sitelinks-wikipedia\n",
      "/wiki/Wikip%C3%A9dia:Citation_et_r%C3%A9utilisation_du_contenu_de_Wikip%C3%A9dia\n",
      "https://creativecommons.org/licenses/by-sa/3.0/deed.fr\n",
      "https://wikimediafoundation.org/wiki/Conditions_d%27utilisation\n",
      "/wiki/Wikip%C3%A9dia:Cr%C3%A9dits_graphiques\n",
      "/wiki/Sp%C3%A9cial:Citer/Web_scraping\n",
      "https://wikimediafoundation.org/\n",
      "/wiki/501c\n",
      "https://meta.wikimedia.org/wiki/Privacy_policy/fr\n",
      "/wiki/Wikip%C3%A9dia:%C3%80_propos_de_Wikip%C3%A9dia\n",
      "/wiki/Wikip%C3%A9dia:Avertissements_g%C3%A9n%C3%A9raux\n",
      "//fr.wikipedia.org/wiki/Wikipédia:Contact\n",
      "https://www.mediawiki.org/wiki/Special:MyLanguage/How_to_contribute\n",
      "https://foundation.wikimedia.org/wiki/Cookie_statement\n",
      "//fr.m.wikipedia.org/w/index.php?title=Web_scraping&mobileaction=toggle_view_mobile\n",
      "https://wikimediafoundation.org/\n",
      "https://www.mediawiki.org/\n"
     ]
    }
   ],
   "source": [
    "for link in soup.find_all('a'):\n",
    "    print(link.get('href'))"
   ]
  },
  {
   "cell_type": "code",
   "execution_count": 6,
   "metadata": {},
   "outputs": [
    {
     "name": "stdout",
     "output_type": "stream",
     "text": [
      "Arguments contre\n",
      "Arguments pour\n",
      "Applications utilisant le Web scraping\n",
      "Utilisation dans la gestion de données multimédia\n",
      "Notes et références\n",
      "Voir aussi\n",
      "Articles connexes\n",
      "Liens externes\n"
     ]
    }
   ],
   "source": [
    "for h in soup.select('.mw-headline'):\n",
    "    print(h.text)"
   ]
  },
  {
   "cell_type": "code",
   "execution_count": 7,
   "metadata": {},
   "outputs": [],
   "source": [
    "import re"
   ]
  },
  {
   "cell_type": "code",
   "execution_count": 8,
   "metadata": {},
   "outputs": [
    {
     "data": {
      "text/plain": [
       "['Dans un cadre entreprise, qui est elle bien sûr propriétaire de ses données, cette technologie permet de réduire significativement le temps et le coût des ',\n",
       " \"intégrations d'applications d'entreprise\",\n",
       " \". Bien que ce type d'intégration ait été dans le passé dénigré pour son manque de fiabilité et de performance, il existe aujourd'hui sur le marché des outils professionnels qui permettent ces intégrations dans le respect des contraintes de sécurité et de gouvernance imposées par les grandes entreprises.\\n\"]"
      ]
     },
     "execution_count": 8,
     "metadata": {},
     "output_type": "execute_result"
    }
   ],
   "source": [
    "soup.find_all(string=re.compile(\"entreprise\"))"
   ]
  },
  {
   "cell_type": "code",
   "execution_count": null,
   "metadata": {},
   "outputs": [],
   "source": []
  }
 ],
 "metadata": {
  "kernelspec": {
   "display_name": "Python 3",
   "language": "python",
   "name": "python3"
  },
  "language_info": {
   "codemirror_mode": {
    "name": "ipython",
    "version": 3
   },
   "file_extension": ".py",
   "mimetype": "text/x-python",
   "name": "python",
   "nbconvert_exporter": "python",
   "pygments_lexer": "ipython3",
   "version": "3.7.3"
  }
 },
 "nbformat": 4,
 "nbformat_minor": 2
}
