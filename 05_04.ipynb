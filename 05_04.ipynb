{
 "cells": [
  {
   "cell_type": "code",
   "execution_count": 2,
   "metadata": {},
   "outputs": [
    {
     "name": "stdout",
     "output_type": "stream",
     "text": [
      "Requirement already satisfied: bokeh in c:\\users\\booth15-mgr2\\appdata\\local\\continuum\\anaconda3\\lib\\site-packages (1.2.0)\n",
      "Requirement already satisfied: numpy>=1.7.1 in c:\\users\\booth15-mgr2\\appdata\\local\\continuum\\anaconda3\\lib\\site-packages (from bokeh) (1.16.4)\n",
      "Requirement already satisfied: pillow>=4.0 in c:\\users\\booth15-mgr2\\appdata\\local\\continuum\\anaconda3\\lib\\site-packages (from bokeh) (6.1.0)\n",
      "Requirement already satisfied: PyYAML>=3.10 in c:\\users\\booth15-mgr2\\appdata\\local\\continuum\\anaconda3\\lib\\site-packages (from bokeh) (5.1.1)\n",
      "Requirement already satisfied: six>=1.5.2 in c:\\users\\booth15-mgr2\\appdata\\local\\continuum\\anaconda3\\lib\\site-packages (from bokeh) (1.12.0)\n",
      "Requirement already satisfied: packaging>=16.8 in c:\\users\\booth15-mgr2\\appdata\\local\\continuum\\anaconda3\\lib\\site-packages (from bokeh) (19.0)\n",
      "Requirement already satisfied: Jinja2>=2.7 in c:\\users\\booth15-mgr2\\appdata\\local\\continuum\\anaconda3\\lib\\site-packages (from bokeh) (2.10.1)\n",
      "Requirement already satisfied: tornado>=4.3 in c:\\users\\booth15-mgr2\\appdata\\local\\continuum\\anaconda3\\lib\\site-packages (from bokeh) (6.0.3)\n",
      "Requirement already satisfied: python-dateutil>=2.1 in c:\\users\\booth15-mgr2\\appdata\\local\\continuum\\anaconda3\\lib\\site-packages (from bokeh) (2.8.0)\n",
      "Requirement already satisfied: pyparsing>=2.0.2 in c:\\users\\booth15-mgr2\\appdata\\local\\continuum\\anaconda3\\lib\\site-packages (from packaging>=16.8->bokeh) (2.4.0)\n",
      "Requirement already satisfied: MarkupSafe>=0.23 in c:\\users\\booth15-mgr2\\appdata\\local\\continuum\\anaconda3\\lib\\site-packages (from Jinja2>=2.7->bokeh) (1.1.1)\n"
     ]
    }
   ],
   "source": [
    "import sys\n",
    "!{sys.executable} -m pip install bokeh"
   ]
  },
  {
   "cell_type": "code",
   "execution_count": 3,
   "metadata": {},
   "outputs": [],
   "source": [
    "import bokeh\n",
    "from bokeh.plotting import figure, output_file, show"
   ]
  },
  {
   "cell_type": "code",
   "execution_count": 4,
   "metadata": {},
   "outputs": [],
   "source": [
    "output_file(\"test.html\")\n",
    "p = figure()\n",
    "p.line([1, 2, 3, 4, 5], [3, 5, 4, 6, 5], line_width=2)\n",
    "show(p)"
   ]
  },
  {
   "cell_type": "code",
   "execution_count": 5,
   "metadata": {},
   "outputs": [
    {
     "data": {
      "text/html": [
       "\n",
       "        <iframe\n",
       "            width=\"900\"\n",
       "            height=\"500\"\n",
       "            src=\"https://demo.bokeh.org/sliders\"\n",
       "            frameborder=\"0\"\n",
       "            allowfullscreen\n",
       "        ></iframe>\n",
       "        "
      ],
      "text/plain": [
       "<IPython.lib.display.IFrame at 0x24dcb3d7d68>"
      ]
     },
     "execution_count": 5,
     "metadata": {},
     "output_type": "execute_result"
    }
   ],
   "source": [
    "from IPython.display import IFrame\n",
    "IFrame('https://demo.bokeh.org/sliders', width=900, height=500)"
   ]
  },
  {
   "cell_type": "code",
   "execution_count": 6,
   "metadata": {},
   "outputs": [],
   "source": [
    "from bokeh.sampledata.iris import flowers\n",
    "colormap = {'setosa': 'red', 'versicolor': 'green', 'virginica': 'blue'}\n",
    "colors = [colormap[x] for x in flowers['species']]\n",
    "p = figure(title = \"Iris Morphologie\")\n",
    "p.xaxis.axis_label = 'Pétale Longueur'\n",
    "p.yaxis.axis_label = 'Pétale Largeur'\n",
    "p.circle(flowers[\"petal_length\"], flowers[\"petal_width\"],\n",
    "         color=colors, fill_alpha=0.2, size=10)\n",
    "output_file(\"iris.html\", title=\"iris.py exemple\")\n",
    "show(p)"
   ]
  },
  {
   "cell_type": "code",
   "execution_count": null,
   "metadata": {},
   "outputs": [],
   "source": []
  }
 ],
 "metadata": {
  "kernelspec": {
   "display_name": "Python 3",
   "language": "python",
   "name": "python3"
  },
  "language_info": {
   "codemirror_mode": {
    "name": "ipython",
    "version": 3
   },
   "file_extension": ".py",
   "mimetype": "text/x-python",
   "name": "python",
   "nbconvert_exporter": "python",
   "pygments_lexer": "ipython3",
   "version": "3.7.3"
  }
 },
 "nbformat": 4,
 "nbformat_minor": 2
}
